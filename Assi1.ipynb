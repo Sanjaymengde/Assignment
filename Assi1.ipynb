{
 "cells": [
  {
   "cell_type": "markdown",
   "id": "e92ab9df-0b49-499c-bdad-61d7a8028b1f",
   "metadata": {},
   "source": [
    "Q1. What is an Exception in python? Write the difference between Exceptions and Syntax errors"
   ]
  },
  {
   "cell_type": "markdown",
   "id": "08809d70-6107-42c4-a390-07a1b25e3831",
   "metadata": {},
   "source": [
    "An exception in Python is an event that disrupts the normal flow of the program. When a Python script encounters a situation that it cannot handle (e.g., trying to divide by zero, accessing an index out of range, or opening a file that does not exist), it raises an exception. If not caught, exceptions cause the program to terminate prematurely"
   ]
  },
  {
   "cell_type": "markdown",
   "id": "6798d5a4-875a-4d68-aba9-e0a25bdb5849",
   "metadata": {},
   "source": [
    "Q2. What happens when an exception is not handled? Explain with an example."
   ]
  },
  {
   "cell_type": "markdown",
   "id": "76ce27f0-a76e-46e0-9661-40b7d99509f6",
   "metadata": {},
   "source": [
    "When an exception is not handled in Python, the program terminates abruptly, and an error message is displayed, indicating the type of exception and the traceback, which helps in identifying where the error occurred in the code."
   ]
  },
  {
   "cell_type": "code",
   "execution_count": 1,
   "id": "f11cf1ed-d3a4-4fdb-bf6b-aab424b85c0f",
   "metadata": {},
   "outputs": [
    {
     "ename": "ZeroDivisionError",
     "evalue": "division by zero",
     "output_type": "error",
     "traceback": [
      "\u001b[1;31m---------------------------------------------------------------------------\u001b[0m",
      "\u001b[1;31mZeroDivisionError\u001b[0m                         Traceback (most recent call last)",
      "Cell \u001b[1;32mIn[1], line 6\u001b[0m\n\u001b[0;32m      3\u001b[0m     \u001b[38;5;28;01mreturn\u001b[39;00m result\n\u001b[0;32m      5\u001b[0m \u001b[38;5;66;03m# This will cause a ZeroDivisionError\u001b[39;00m\n\u001b[1;32m----> 6\u001b[0m x \u001b[38;5;241m=\u001b[39m \u001b[43mdivide\u001b[49m\u001b[43m(\u001b[49m\u001b[38;5;241;43m10\u001b[39;49m\u001b[43m,\u001b[49m\u001b[43m \u001b[49m\u001b[38;5;241;43m0\u001b[39;49m\u001b[43m)\u001b[49m\n\u001b[0;32m      7\u001b[0m \u001b[38;5;28mprint\u001b[39m(x)\n",
      "Cell \u001b[1;32mIn[1], line 2\u001b[0m, in \u001b[0;36mdivide\u001b[1;34m(a, b)\u001b[0m\n\u001b[0;32m      1\u001b[0m \u001b[38;5;28;01mdef\u001b[39;00m \u001b[38;5;21mdivide\u001b[39m(a, b):\n\u001b[1;32m----> 2\u001b[0m     result \u001b[38;5;241m=\u001b[39m \u001b[43ma\u001b[49m\u001b[43m \u001b[49m\u001b[38;5;241;43m/\u001b[39;49m\u001b[43m \u001b[49m\u001b[43mb\u001b[49m\n\u001b[0;32m      3\u001b[0m     \u001b[38;5;28;01mreturn\u001b[39;00m result\n",
      "\u001b[1;31mZeroDivisionError\u001b[0m: division by zero"
     ]
    }
   ],
   "source": [
    "def divide(a, b):\n",
    "    result = a / b\n",
    "    return result\n",
    "\n",
    "# This will cause a ZeroDivisionError\n",
    "x = divide(10, 0)\n",
    "print(x)"
   ]
  },
  {
   "cell_type": "markdown",
   "id": "582b9596-bc87-47b8-ab42-dbede87e204b",
   "metadata": {},
   "source": [
    "Q3. Which Python statements are used to catch and handle exceptions? Explain with an example."
   ]
  },
  {
   "cell_type": "markdown",
   "id": "6bdf4662-4ab2-4c7d-a2a4-327cf6b85dc2",
   "metadata": {},
   "source": [
    "Try,Except,else,and finally"
   ]
  },
  {
   "cell_type": "code",
   "execution_count": 2,
   "id": "4a00356c-fa03-43fe-b615-9dfd46acc5d2",
   "metadata": {},
   "outputs": [
    {
     "name": "stdout",
     "output_type": "stream",
     "text": [
      "Error: Cannot divide by zero.\n",
      "Execution completed.\n"
     ]
    }
   ],
   "source": [
    "try:\n",
    "    num1 = 10\n",
    "    num2 = 0\n",
    "    result = num1 / num2  # This will raise ZeroDivisionError\n",
    "except ZeroDivisionError:\n",
    "    print(\"Error: Cannot divide by zero.\")\n",
    "except TypeError:\n",
    "    print(\"Error: Incorrect data type.\")\n",
    "finally:\n",
    "    print(\"Execution completed.\")"
   ]
  },
  {
   "cell_type": "markdown",
   "id": "68652ec2-e5ab-4cbb-a7ee-904f93e06505",
   "metadata": {},
   "source": [
    "Q4. Explain with an example:#\n",
    "\f",
    "\u001d",
    " try and else#\n",
    "\u0007\u001d",
    " finall\n",
    "\n",
    "+\u001d",
    " raise"
   ]
  },
  {
   "cell_type": "code",
   "execution_count": 3,
   "id": "47efc95e-e445-4708-8bc4-d5b721b333c6",
   "metadata": {},
   "outputs": [
    {
     "name": "stdout",
     "output_type": "stream",
     "text": [
      "Division successful! Result is: 2.0\n",
      "Execution completed.\n"
     ]
    }
   ],
   "source": [
    "try:\n",
    "    num1 = 10\n",
    "    num2 = 5\n",
    "    result = num1 / num2  # This will not raise an exception\n",
    "except ZeroDivisionError:\n",
    "    print(\"Error: Cannot divide by zero.\")\n",
    "else:\n",
    "    print(f\"Division successful! Result is: {result}\")\n",
    "finally:\n",
    "    print(\"Execution completed.\")"
   ]
  },
  {
   "cell_type": "markdown",
   "id": "c6240ac6-f759-4207-b353-d041bc547df3",
   "metadata": {},
   "source": [
    "Q5. What are Custom Exceptions in python? Why do we need Custom Exceptions? Explain with an example"
   ]
  },
  {
   "cell_type": "markdown",
   "id": "953c863f-c8d1-440b-8755-167089af364a",
   "metadata": {},
   "source": [
    "In Python, custom exceptions (also called user-defined exceptions) are exceptions that are defined by the programmer to suit the specific needs of their application. While Python provides several built-in exceptions (like ValueError, IndexError, TypeError, etc.), there are situations where you might want to define your own exceptions to make your code more readable and meaningful."
   ]
  },
  {
   "cell_type": "code",
   "execution_count": 4,
   "id": "bd878e92-aa37-4009-a2cb-f06fd87a7e57",
   "metadata": {},
   "outputs": [
    {
     "name": "stdout",
     "output_type": "stream",
     "text": [
      "Error: You cannot withdraw more than the available balance.\n",
      "Error: Withdrawal amount must be greater than zero.\n"
     ]
    }
   ],
   "source": [
    "# Define custom exceptions\n",
    "class InsufficientBalanceError(Exception):\n",
    "    \"\"\"Exception raised when an account has insufficient balance.\"\"\"\n",
    "    def __init__(self, message=\"Insufficient balance in the account\"):\n",
    "        self.message = message\n",
    "        super().__init__(self.message)\n",
    "\n",
    "class InvalidAmountError(Exception):\n",
    "    \"\"\"Exception raised for invalid withdrawal amount.\"\"\"\n",
    "    def __init__(self, message=\"Withdrawal amount must be greater than zero\"):\n",
    "        self.message = message\n",
    "        super().__init__(self.message)\n",
    "\n",
    "class BankAccount:\n",
    "    def __init__(self, balance):\n",
    "        self.balance = balance\n",
    "\n",
    "    def withdraw(self, amount):\n",
    "        if amount <= 0:\n",
    "            raise InvalidAmountError(\"Withdrawal amount must be greater than zero.\")\n",
    "        if amount > self.balance:\n",
    "            raise InsufficientBalanceError(\"You cannot withdraw more than the available balance.\")\n",
    "        self.balance -= amount\n",
    "        print(f\"Successfully withdrawn {amount}. New balance: {self.balance}\")\n",
    "\n",
    "account = BankAccount(100)\n",
    "\n",
    "try:\n",
    "    account.withdraw(150)  \n",
    "except InsufficientBalanceError as e:\n",
    "    print(f\"Error: {e}\")\n",
    "\n",
    "try:\n",
    "    account.withdraw(-50)  \n",
    "except InvalidAmountError as e:\n",
    "    print(f\"Error: {e}\")\n"
   ]
  },
  {
   "cell_type": "markdown",
   "id": "d4c794b8-5b85-496b-b5bf-70f8455be7d9",
   "metadata": {},
   "source": [
    "Q6. Create a custom exception class. Use this class to handle an exception"
   ]
  },
  {
   "cell_type": "code",
   "execution_count": 5,
   "id": "10940477-7613-47b6-93fc-5aa895b32ef2",
   "metadata": {},
   "outputs": [
    {
     "name": "stdin",
     "output_type": "stream",
     "text": [
      "Please enter your age:  22\n"
     ]
    },
    {
     "name": "stdout",
     "output_type": "stream",
     "text": [
      "Access granted. Your age is 22. You are allowed to proceed.\n"
     ]
    }
   ],
   "source": [
    "\n",
    "class AgeTooLowError(Exception):\n",
    "    \"\"\"Custom exception raised when a user is too young for an action.\"\"\"\n",
    "    def __init__(self, age, message=\"Age is too low for this action.\"):\n",
    "        self.age = age\n",
    "        self.message = f\"{message} Provided age: {self.age}\"\n",
    "        super().__init__(self.message)\n",
    "\n",
    "def check_age(age):\n",
    "    if age < 18:\n",
    "        raise AgeTooLowError(age)\n",
    "    else:\n",
    "        print(f\"Access granted. Your age is {age}. You are allowed to proceed.\")\n",
    "\n",
    "try:\n",
    "    user_age = int(input(\"Please enter your age: \")) \n",
    "    check_age(user_age) \n",
    "except AgeTooLowError as e:\n",
    "    print(f\"Error: {e}\")\n"
   ]
  },
  {
   "cell_type": "code",
   "execution_count": null,
   "id": "aa41723b-8c53-4037-8db9-14d63e1998d6",
   "metadata": {},
   "outputs": [],
   "source": []
  }
 ],
 "metadata": {
  "kernelspec": {
   "display_name": "Python 3 (ipykernel)",
   "language": "python",
   "name": "python3"
  },
  "language_info": {
   "codemirror_mode": {
    "name": "ipython",
    "version": 3
   },
   "file_extension": ".py",
   "mimetype": "text/x-python",
   "name": "python",
   "nbconvert_exporter": "python",
   "pygments_lexer": "ipython3",
   "version": "3.13.0"
  }
 },
 "nbformat": 4,
 "nbformat_minor": 5
}
